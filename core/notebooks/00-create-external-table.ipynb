{
 "cells": [
  {
   "cell_type": "markdown",
   "metadata": {
    "application/vnd.databricks.v1+cell": {
     "cellMetadata": {},
     "inputWidgets": {},
     "nuid": "e8e90692-e20e-4bba-8537-2aa489465a31",
     "showTitle": false,
     "title": ""
    }
   },
   "source": [
    "# Create external table\n",
    "\n",
    "This notebook will create an external tables in Unity Catalog based on the `UCI Credit Card Client Default` [dataset](https://archive.ics.uci.edu/dataset/350/default+of+credit+card+clients) that was uploaded to `dbfs:/FileStore/tables/credit-card-default-uci-curated` during setup.\n"
   ]
  },
  {
   "cell_type": "code",
   "execution_count": null,
   "metadata": {
    "application/vnd.databricks.v1+cell": {
     "cellMetadata": {
      "byteLimit": 2048000,
      "implicitDf": true,
      "rowLimit": 10000
     },
     "inputWidgets": {},
     "nuid": "d7ec3de5-b1ab-4438-85f9-b91d91b711e1",
     "showTitle": false,
     "title": ""
    }
   },
   "outputs": [],
   "source": [
    "%sql\n",
    "\n",
    "DROP TABLE IF EXISTS credit_default_uci_curated;\n",
    "\n",
    "CREATE TABLE credit_default_uci_curated\n",
    "  USING csv\n",
    "  OPTIONS (path \"dbfs:/FileStore/tables/credit-card-default-uci-curated\", header \"true\", inferSchema \"true\");"
   ]
  }
 ],
 "metadata": {
  "application/vnd.databricks.v1+notebook": {
   "dashboards": [],
   "language": "python",
   "notebookMetadata": {
    "mostRecentlyExecutedCommandWithImplicitDF": {
     "commandId": 3181691605564265,
     "dataframes": [
      "_sqldf"
     ]
    },
    "pythonIndentUnit": 4
   },
   "notebookName": "00-create-external-table",
   "widgets": {}
  },
  "language_info": {
   "name": "python"
  }
 },
 "nbformat": 4,
 "nbformat_minor": 0
}
