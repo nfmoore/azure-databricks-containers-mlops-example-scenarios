{
 "cells": [
  {
   "cell_type": "markdown",
   "metadata": {
    "application/vnd.databricks.v1+cell": {
     "cellMetadata": {},
     "inputWidgets": {},
     "nuid": "e8e90692-e20e-4bba-8537-2aa489465a31",
     "showTitle": false,
     "title": ""
    }
   },
   "source": [
    "# Create external table\n",
    "\n",
    "This notebook will create an external tables in Unity Catalog based on the `UCI Credit Card Client Default` [dataset](https://archive.ics.uci.edu/dataset/350/default+of+credit+card+clients) that was uploaded during setup.\n"
   ]
  },
  {
   "cell_type": "markdown",
   "metadata": {
    "application/vnd.databricks.v1+cell": {
     "cellMetadata": {},
     "inputWidgets": {},
     "nuid": "73d373cd-e604-4e34-ae75-0175b6dd3933",
     "showTitle": false,
     "title": ""
    }
   },
   "source": [
    "#### Define notebook parameters\n"
   ]
  },
  {
   "cell_type": "code",
   "execution_count": null,
   "metadata": {
    "application/vnd.databricks.v1+cell": {
     "cellMetadata": {
      "byteLimit": 2048000,
      "rowLimit": 10000
     },
     "inputWidgets": {},
     "nuid": "00270229-6e5d-4ceb-83ec-eef0f7483bb7",
     "showTitle": false,
     "title": ""
    }
   },
   "outputs": [],
   "source": [
    "dbutils.widgets.text(\"path\", \"dbfs:/FileStore/tables/credit-card-default-uci-curated\")"
   ]
  },
  {
   "cell_type": "markdown",
   "metadata": {
    "application/vnd.databricks.v1+cell": {
     "cellMetadata": {},
     "inputWidgets": {},
     "nuid": "11b73742-9e80-4ce9-9e59-13f266ba884c",
     "showTitle": false,
     "title": ""
    }
   },
   "source": [
    "#### Create external table\n"
   ]
  },
  {
   "cell_type": "code",
   "execution_count": null,
   "metadata": {
    "application/vnd.databricks.v1+cell": {
     "cellMetadata": {
      "byteLimit": 2048000,
      "implicitDf": true,
      "rowLimit": 10000
     },
     "inputWidgets": {},
     "nuid": "d7ec3de5-b1ab-4438-85f9-b91d91b711e1",
     "showTitle": false,
     "title": ""
    }
   },
   "outputs": [],
   "source": [
    "%sql\n",
    "\n",
    "DROP TABLE IF EXISTS credit_default_uci_curated;\n",
    "\n",
    "CREATE TABLE credit_default_uci_curated\n",
    "  USING csv\n",
    "  OPTIONS (path \"${path}\", header \"true\", inferSchema \"true\");"
   ]
  }
 ],
 "metadata": {
  "application/vnd.databricks.v1+notebook": {
   "dashboards": [],
   "language": "python",
   "notebookMetadata": {
    "mostRecentlyExecutedCommandWithImplicitDF": {
     "commandId": 1068276009428663,
     "dataframes": [
      "_sqldf"
     ]
    },
    "pythonIndentUnit": 4,
    "widgetLayout": [
     {
      "breakBefore": false,
      "name": "path",
      "width": 381
     }
    ]
   },
   "notebookName": "00-create-external-table",
   "widgets": {
    "path": {
     "currentValue": "dbfs:/FileStore/tables/credit-card-default-uci-curated",
     "nuid": "fdfcee50-89c4-43cc-851a-69f13ccfbc7b",
     "typedWidgetInfo": null,
     "widgetInfo": {
      "defaultValue": "dbfs:/FileStore/tables/credit-card-default-uci-curated",
      "label": null,
      "name": "path",
      "options": {
       "autoCreated": null,
       "validationRegex": null,
       "widgetType": "text"
      },
      "widgetType": "text"
     }
    }
   }
  },
  "language_info": {
   "name": "python"
  }
 },
 "nbformat": 4,
 "nbformat_minor": 0
}
