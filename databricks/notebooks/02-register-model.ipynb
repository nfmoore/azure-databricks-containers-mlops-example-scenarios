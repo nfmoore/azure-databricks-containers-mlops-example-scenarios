{
 "cells": [
  {
   "cell_type": "markdown",
   "metadata": {
    "application/vnd.databricks.v1+cell": {
     "cellMetadata": {
      "byteLimit": 2048000,
      "rowLimit": 10000
     },
     "inputWidgets": {},
     "nuid": "58d875ff-2666-4e00-b1e6-e79b67fc8a74",
     "showTitle": false,
     "title": ""
    }
   },
   "source": [
    "# Register machine learning model\n",
    "\n",
    "This notebook outlines a workflow for registering a machine learning model from a MLFlow run. A `python_function` MLFlow model object will be created to perform classification, drift detection and outlier detection.\n"
   ]
  },
  {
   "cell_type": "markdown",
   "metadata": {
    "application/vnd.databricks.v1+cell": {
     "cellMetadata": {
      "byteLimit": 2048000,
      "rowLimit": 10000
     },
     "inputWidgets": {},
     "nuid": "61647b92-b0d0-427a-a833-5afceb5850da",
     "showTitle": false,
     "title": ""
    }
   },
   "source": [
    "#### Import dependencies, define notebook parameters and constants\n"
   ]
  },
  {
   "cell_type": "code",
   "execution_count": null,
   "metadata": {
    "application/vnd.databricks.v1+cell": {
     "cellMetadata": {
      "byteLimit": 2048000,
      "rowLimit": 10000
     },
     "inputWidgets": {},
     "nuid": "4519bb7d-d0d5-43d8-aef8-4685782f0766",
     "showTitle": false,
     "title": ""
    }
   },
   "outputs": [],
   "source": [
    "import os\n",
    "import json\n",
    "import yaml\n",
    "import joblib\n",
    "import mlflow\n",
    "import pandas as pd\n",
    "import importlib.metadata\n",
    "\n",
    "from mlflow.tracking import MlflowClient\n",
    "from alibi_detect.od import IForest\n",
    "from alibi_detect.cd import TabularDrift"
   ]
  },
  {
   "cell_type": "code",
   "execution_count": null,
   "metadata": {
    "application/vnd.databricks.v1+cell": {
     "cellMetadata": {
      "byteLimit": 2048000,
      "rowLimit": 10000
     },
     "inputWidgets": {},
     "nuid": "83300ef4-ae69-4323-a887-be582a2b5c30",
     "showTitle": false,
     "title": ""
    }
   },
   "outputs": [],
   "source": [
    "# define notebook parameters\n",
    "dbutils.widgets.text(\"model_name\", \"credit-default-uci-custom\")\n",
    "\n",
    "dbutils.widgets.text(\"experiment_name\", \"/online-inference-containers-examples\")\n",
    "\n",
    "dbutils.widgets.text(\n",
    "    \"curated_dataset_table\", \"hive_metastore.default.credit_default_uci_curated\"\n",
    ")"
   ]
  },
  {
   "cell_type": "code",
   "execution_count": null,
   "metadata": {
    "application/vnd.databricks.v1+cell": {
     "cellMetadata": {
      "byteLimit": 2048000,
      "rowLimit": 10000
     },
     "inputWidgets": {},
     "nuid": "aeedfe4f-aecf-4390-9353-78e7fbdb06a9",
     "showTitle": false,
     "title": ""
    }
   },
   "outputs": [],
   "source": [
    "# define target column\n",
    "TARGET = [\"default_payment_next_month\"]\n",
    "\n",
    "# define categorical feature columns\n",
    "CATEGORICAL_FEATURES = [\n",
    "    \"sex\",\n",
    "    \"education\",\n",
    "    \"marriage\",\n",
    "    \"repayment_status_1\",\n",
    "    \"repayment_status_2\",\n",
    "    \"repayment_status_3\",\n",
    "    \"repayment_status_4\",\n",
    "    \"repayment_status_5\",\n",
    "    \"repayment_status_6\",\n",
    "]\n",
    "\n",
    "# define numeric feature columns\n",
    "NUMERIC_FEATURES = [\n",
    "    \"credit_limit\",\n",
    "    \"age\",\n",
    "    \"bill_amount_1\",\n",
    "    \"bill_amount_2\",\n",
    "    \"bill_amount_3\",\n",
    "    \"bill_amount_4\",\n",
    "    \"bill_amount_5\",\n",
    "    \"bill_amount_6\",\n",
    "    \"payment_amount_1\",\n",
    "    \"payment_amount_2\",\n",
    "    \"payment_amount_3\",\n",
    "    \"payment_amount_4\",\n",
    "    \"payment_amount_5\",\n",
    "    \"payment_amount_6\",\n",
    "]\n",
    "\n",
    "# define all features\n",
    "FEATURES = CATEGORICAL_FEATURES + NUMERIC_FEATURES\n",
    "\n",
    "# define sample data for inference\n",
    "INPUT_SAMPLE = [\n",
    "    {\n",
    "        \"sex\": \"male\",\n",
    "        \"education\": \"university\",\n",
    "        \"marriage\": \"married\",\n",
    "        \"repayment_status_1\": \"duly_paid\",\n",
    "        \"repayment_status_2\": \"duly_paid\",\n",
    "        \"repayment_status_3\": \"duly_paid\",\n",
    "        \"repayment_status_4\": \"duly_paid\",\n",
    "        \"repayment_status_5\": \"no_delay\",\n",
    "        \"repayment_status_6\": \"no_delay\",\n",
    "        \"credit_limit\": 18000.0,\n",
    "        \"age\": 33.0,\n",
    "        \"bill_amount_1\": 764.95,\n",
    "        \"bill_amount_2\": 2221.95,\n",
    "        \"bill_amount_3\": 1131.85,\n",
    "        \"bill_amount_4\": 5074.85,\n",
    "        \"bill_amount_5\": 3448.0,\n",
    "        \"bill_amount_6\": 1419.95,\n",
    "        \"payment_amount_1\": 2236.5,\n",
    "        \"payment_amount_2\": 1137.55,\n",
    "        \"payment_amount_3\": 5084.55,\n",
    "        \"payment_amount_4\": 111.65,\n",
    "        \"payment_amount_5\": 306.9,\n",
    "        \"payment_amount_6\": 805.65,\n",
    "    }\n",
    "]\n",
    "\n",
    "# define sample response for inference\n",
    "OUTPUT_SAMPLE = {\"predictions\": [0.02]}"
   ]
  },
  {
   "cell_type": "markdown",
   "metadata": {
    "application/vnd.databricks.v1+cell": {
     "cellMetadata": {
      "byteLimit": 2048000,
      "rowLimit": 10000
     },
     "inputWidgets": {},
     "nuid": "44bc7566-4bff-4bd2-8753-a8b58a8d7e32",
     "showTitle": false,
     "title": ""
    }
   },
   "source": [
    "#### Build drift detector and write models\n"
   ]
  },
  {
   "cell_type": "code",
   "execution_count": null,
   "metadata": {
    "application/vnd.databricks.v1+cell": {
     "cellMetadata": {
      "byteLimit": 2048000,
      "rowLimit": 10000
     },
     "inputWidgets": {},
     "nuid": "1eb25547-2788-4488-8e04-785eff1d67ab",
     "showTitle": false,
     "title": ""
    }
   },
   "outputs": [],
   "source": [
    "# read and process curated data\n",
    "df = spark.read.table(dbutils.widgets.get(\"curated_dataset_table\")).toPandas()\n",
    "\n",
    "# build drift model\n",
    "categories_per_feature = {i: None for i in range(len(CATEGORICAL_FEATURES))}\n",
    "drift = TabularDrift(\n",
    "    df[CATEGORICAL_FEATURES + NUMERIC_FEATURES].values,\n",
    "    p_val=0.05,\n",
    "    categories_per_feature=categories_per_feature,\n",
    ")\n",
    "\n",
    "# build outlier model\n",
    "outlier = IForest(threshold=0.95)\n",
    "outlier.fit(df[NUMERIC_FEATURES].values)"
   ]
  },
  {
   "cell_type": "code",
   "execution_count": null,
   "metadata": {
    "application/vnd.databricks.v1+cell": {
     "cellMetadata": {
      "byteLimit": 2048000,
      "rowLimit": 10000
     },
     "inputWidgets": {},
     "nuid": "8e7e754e-a3c7-4a12-b4e6-d6f99d40603b",
     "showTitle": false,
     "title": ""
    }
   },
   "outputs": [],
   "source": [
    "# get best run id from task values\n",
    "best_run_id = dbutils.jobs.taskValues.get(\n",
    "    taskKey=\"train_model\", key=\"best_run_id\", debugValue=\"your-run-id\"\n",
    ")\n",
    "\n",
    "# load best model\n",
    "classifier = mlflow.pyfunc.load_model(f\"runs:/{best_run_id}/model\")\n",
    "\n",
    "# write drift model and outlier model\n",
    "os.makedirs(\"/tmp/models\", exist_ok=True)\n",
    "joblib.dump(drift, \"/tmp/models/drift.pkl\")\n",
    "joblib.dump(outlier, \"/tmp/models/outlier.pkl\")\n",
    "\n",
    "# write classifier model\n",
    "client = MlflowClient()\n",
    "classifier_model_path = \"/tmp/models/classifier\"\n",
    "os.makedirs(classifier_model_path, exist_ok=True)\n",
    "client.download_artifacts(best_run_id, \"model\", classifier_model_path)"
   ]
  },
  {
   "cell_type": "markdown",
   "metadata": {
    "application/vnd.databricks.v1+cell": {
     "cellMetadata": {},
     "inputWidgets": {},
     "nuid": "6a68fb1c-3fac-44db-9b95-6e78e1ef4826",
     "showTitle": false,
     "title": ""
    }
   },
   "source": [
    "#### Create custom MLFlow Pyfunc model\n"
   ]
  },
  {
   "cell_type": "code",
   "execution_count": null,
   "metadata": {
    "application/vnd.databricks.v1+cell": {
     "cellMetadata": {
      "byteLimit": 2048000,
      "rowLimit": 10000
     },
     "inputWidgets": {},
     "nuid": "04d2f883-9af1-4e34-ae72-4ddc8c6e8ed4",
     "showTitle": false,
     "title": ""
    }
   },
   "outputs": [],
   "source": [
    "class CustomModel(mlflow.pyfunc.PythonModel):\n",
    "    \"\"\"\n",
    "    Custom model for classification outlier and feature drift detection.\n",
    "    \"\"\"\n",
    "\n",
    "    def __init__(\n",
    "        self, categorical_feature_names: list[str], numeric_feature_names: list[str]\n",
    "    ):\n",
    "        self.categorical_features = categorical_feature_names\n",
    "        self.numeric_features = numeric_feature_names\n",
    "        self.all_features = categorical_feature_names + numeric_feature_names\n",
    "\n",
    "    def load_context(self, context):\n",
    "        self.classifier = joblib.load(\n",
    "            os.path.join(\n",
    "                context.artifacts[\"artifacts_path\"], \"classifier/model/model.pkl\"\n",
    "            )\n",
    "        )\n",
    "        self.drift = joblib.load(\n",
    "            os.path.join(context.artifacts[\"artifacts_path\"], \"drift.pkl\")\n",
    "        )\n",
    "        self.outliers = joblib.load(\n",
    "            os.path.join(context.artifacts[\"artifacts_path\"], \"outlier.pkl\")\n",
    "        )\n",
    "\n",
    "    def predict(self, context, model_input):\n",
    "        # convert to pandas dataframe\n",
    "        df = pd.DataFrame(model_input)\n",
    "\n",
    "        # generate predictions, drift results, and  outlier results\n",
    "        predictions = self.classifier.predict_proba(df[self.all_features])[\n",
    "            :, 1\n",
    "        ].tolist()\n",
    "        drift_results = self.drift.predict(df[self.all_features].values)\n",
    "        outlier_results = self.outliers.predict(df[self.numeric_features].values)\n",
    "\n",
    "        # format response\n",
    "        response = {\n",
    "            \"predictions\": predictions,\n",
    "            \"outliers\": outlier_results[\"data\"][\"is_outlier\"].tolist(),\n",
    "            \"feature_drift_batch\": dict(\n",
    "                zip(\n",
    "                    CATEGORICAL_FEATURES + NUMERIC_FEATURES,\n",
    "                    (1 - drift_results[\"data\"][\"p_val\"]).tolist(),\n",
    "                )\n",
    "            ),\n",
    "        }\n",
    "\n",
    "        return response"
   ]
  },
  {
   "cell_type": "markdown",
   "metadata": {
    "application/vnd.databricks.v1+cell": {
     "cellMetadata": {},
     "inputWidgets": {},
     "nuid": "23761f9c-b3ac-4059-83d2-7c616b3fdba3",
     "showTitle": false,
     "title": ""
    }
   },
   "source": [
    "#### Register custom MLFlow model\n"
   ]
  },
  {
   "cell_type": "code",
   "execution_count": null,
   "metadata": {
    "application/vnd.databricks.v1+cell": {
     "cellMetadata": {
      "byteLimit": 2048000,
      "rowLimit": 10000
     },
     "inputWidgets": {},
     "nuid": "ed93f0b0-f257-4bd9-a618-1ace25996397",
     "showTitle": false,
     "title": ""
    }
   },
   "outputs": [],
   "source": [
    "# load base conda file\n",
    "with open(\"/tmp/models/classifier/model/conda.yaml\", \"r\") as f:\n",
    "    base_conda_env = yaml.safe_load(f)\n",
    "\n",
    "# define extra pip dependencies\n",
    "extra_pip_dependencies = [\n",
    "    f\"{library}=={importlib.metadata.version(library)}\"\n",
    "    for library in [\"alibi-detect\", \"joblib\", \"numpy\", \"pandas\"]\n",
    "]\n",
    "\n",
    "# update base conda file\n",
    "updated_conda_env = base_conda_env.copy()\n",
    "updated_conda_env[\"dependencies\"][-1][\"pip\"] = (\n",
    "    base_conda_env[\"dependencies\"][-1][\"pip\"] + extra_pip_dependencies\n",
    ")"
   ]
  },
  {
   "cell_type": "code",
   "execution_count": null,
   "metadata": {
    "application/vnd.databricks.v1+cell": {
     "cellMetadata": {
      "byteLimit": 2048000,
      "rowLimit": 10000
     },
     "inputWidgets": {},
     "nuid": "a05545b3-c9f1-4b87-8328-c7fcc3e68ec5",
     "showTitle": false,
     "title": ""
    }
   },
   "outputs": [],
   "source": [
    "mlflow.set_experiment(dbutils.widgets.get(\"experiment_name\"))\n",
    "with mlflow.start_run(run_name=\"credit-default-uci-register\") as run:\n",
    "    # create instance of custom model\n",
    "    model_artifact = CustomModel(\n",
    "        categorical_feature_names=CATEGORICAL_FEATURES,\n",
    "        numeric_feature_names=NUMERIC_FEATURES,\n",
    "    )\n",
    "\n",
    "    # log model\n",
    "    mlflow.pyfunc.log_model(\n",
    "        artifact_path=\"model\",\n",
    "        python_model=model_artifact,\n",
    "        artifacts={\"artifacts_path\": \"/tmp/models\"},\n",
    "        conda_env=updated_conda_env,\n",
    "        input_example=INPUT_SAMPLE,\n",
    "        signature=False,\n",
    "    )\n",
    "\n",
    "    mlflow.end_run()"
   ]
  },
  {
   "cell_type": "code",
   "execution_count": null,
   "metadata": {
    "application/vnd.databricks.v1+cell": {
     "cellMetadata": {
      "byteLimit": 2048000,
      "rowLimit": 10000
     },
     "inputWidgets": {},
     "nuid": "5088acec-45d8-4750-b2d4-1b37ad68aa02",
     "showTitle": false,
     "title": ""
    }
   },
   "outputs": [],
   "source": [
    "# get best run id from task values\n",
    "best_run_id = dbutils.jobs.taskValues.get(\n",
    "    taskKey=\"train_model\", key=\"best_run_id\", debugValue=\"your-run-id\"\n",
    ")\n",
    "\n",
    "# register drift model to MLFlow model registry\n",
    "registered_model = mlflow.register_model(\n",
    "    f\"runs:/{run.info.run_id}/model\",\n",
    "    dbutils.widgets.get(\"model_name\"),\n",
    "    tags={\"best_classifier_model_run_id\": best_run_id},\n",
    ")"
   ]
  },
  {
   "cell_type": "markdown",
   "metadata": {
    "application/vnd.databricks.v1+cell": {
     "cellMetadata": {},
     "inputWidgets": {},
     "nuid": "19e6e87e-4e0d-4eb9-8475-2be9a0481eaa",
     "showTitle": false,
     "title": ""
    }
   },
   "source": [
    "#### Return notebook outputs\n"
   ]
  },
  {
   "cell_type": "code",
   "execution_count": null,
   "metadata": {
    "application/vnd.databricks.v1+cell": {
     "cellMetadata": {},
     "inputWidgets": {},
     "nuid": "8e39f375-cb5a-4809-8cbb-77ef65211f5c",
     "showTitle": false,
     "title": ""
    }
   },
   "outputs": [],
   "source": [
    "# return notebook output\n",
    "json_output = json.dumps(\n",
    "    {\n",
    "        \"output\": {\n",
    "            \"MODEL_NAME\": registered_model.name,\n",
    "            \"MODEL_VERSION\": registered_model.version,\n",
    "        }\n",
    "    }\n",
    ")\n",
    "\n",
    "dbutils.notebook.exit(json_output)"
   ]
  }
 ],
 "metadata": {
  "application/vnd.databricks.v1+notebook": {
   "dashboards": [],
   "language": "python",
   "notebookMetadata": {
    "pythonIndentUnit": 4
   },
   "notebookName": "02-register-model",
   "widgets": {
    "best_run_id": {
     "currentValue": "a4b9e7fb2ed6424587282825c13fb92b",
     "nuid": "0c44fa31-9c1f-4bdc-a26d-fefafed1f949",
     "typedWidgetInfo": null,
     "widgetInfo": {
      "defaultValue": "",
      "label": null,
      "name": "best_run_id",
      "options": {
       "autoCreated": null,
       "validationRegex": null,
       "widgetType": "text"
      },
      "widgetType": "text"
     }
    },
    "curated_dataset_table": {
     "currentValue": "hive_metastore.default.credit_default_uci_curated",
     "nuid": "de532abb-35dc-471e-a638-99e89136e3f1",
     "typedWidgetInfo": null,
     "widgetInfo": {
      "defaultValue": "hive_metastore.default.credit_default_uci_curated",
      "label": null,
      "name": "curated_dataset_table",
      "options": {
       "autoCreated": null,
       "validationRegex": null,
       "widgetType": "text"
      },
      "widgetType": "text"
     }
    },
    "experiment_name": {
     "currentValue": "/online-inference-containers-examples",
     "nuid": "1b06d156-90f3-4241-a342-8eb65c599f46",
     "typedWidgetInfo": null,
     "widgetInfo": {
      "defaultValue": "/online-inference-containers-examples",
      "label": null,
      "name": "experiment_name",
      "options": {
       "autoCreated": null,
       "validationRegex": null,
       "widgetType": "text"
      },
      "widgetType": "text"
     }
    },
    "model_name": {
     "currentValue": "credit-default-uci-custom",
     "nuid": "7158a77e-3fce-4a95-9d99-2c3a16e88d48",
     "typedWidgetInfo": null,
     "widgetInfo": {
      "defaultValue": "credit-default-uci-custom",
      "label": null,
      "name": "model_name",
      "options": {
       "autoCreated": null,
       "validationRegex": null,
       "widgetType": "text"
      },
      "widgetType": "text"
     }
    }
   }
  },
  "language_info": {
   "name": "python"
  }
 },
 "nbformat": 4,
 "nbformat_minor": 0
}
